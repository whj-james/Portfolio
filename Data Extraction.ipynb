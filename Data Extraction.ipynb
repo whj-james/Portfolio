{
 "cells": [
  {
   "cell_type": "markdown",
   "metadata": {
    "id": "QCbAmQ47iqK4"
   },
   "source": [
    "<div class=\"alert alert-block alert-success\">\n",
    "    \n",
    "# FIT5196 Task 1 in Assessment 1\n",
    "#### Student Name: Huangjin Wang\n",
    "#### Student ID: 32189222\n",
    "\n",
    "Date: 22-08-2022\n",
    "\n",
    "\n",
    "Environment: Python 3.9\n",
    "\n",
    "Libraries used:\n",
    "* os (for interacting with the operating system, included in Python 3.xxx package) \n",
    "* re (for regular expression, installed and imported) \n",
    "* pandas (for data manipulation) \n",
    "    \n",
    "</div>"
   ]
  },
  {
   "cell_type": "markdown",
   "metadata": {
    "id": "IjBFqYK4iqK5"
   },
   "source": [
    "<div class=\"alert alert-block alert-danger\">\n",
    "    \n",
    "## Table of Contents\n",
    "\n",
    "</div>    \n",
    "\n",
    "[1. Introduction](#Intro) <br>\n",
    "[2. Importing Libraries](#libs) <br>\n",
    "[3. Examining Review Files](#examine) <br>\n",
    "[4. Loading and Parsing Files](#load) <br>\n",
    "$\\;\\;\\;\\;$[4.1. Defining Regular Expressions](#Reg_Exp) <br>\n",
    "$\\;\\;\\;\\;$[4.2. Reading Files](#Read) <br>\n",
    "$\\;\\;\\;\\;$[4.3. Whatever else](#latin) <br>\n",
    "[5. Writing to an CSV File](#write) <br>\n",
    "$\\;\\;\\;\\;$[5.1. Verification - using the sample files](#test_xml) <br>\n",
    "[6. Summary](#summary) <br>\n",
    "[7. References](#Ref) <br>"
   ]
  },
  {
   "cell_type": "markdown",
   "metadata": {
    "id": "AcbqK3KliqK6"
   },
   "source": [
    "-------------------------------------"
   ]
  },
  {
   "cell_type": "markdown",
   "metadata": {
    "id": "pEFdSCIUiqK6"
   },
   "source": [
    "<div class=\"alert alert-block alert-warning\">\n",
    "\n",
    "## 1.  Introduction  <a class=\"anchor\" name=\"Intro\"></a>\n",
    "    \n",
    "</div>"
   ]
  },
  {
   "cell_type": "markdown",
   "metadata": {
    "id": "cGg4-8VSiqK6"
   },
   "source": [
    "This assessment regards extracting data from semi-sctuctured text files. The dataset contained 500 `.txt` files which included various information about user reviews. In particular, each file only contains reviews' date, reviews' summary and reviews' text for a specific product id. The task is to extract all review texts, review summaries and latest review date for every product. The extracting process will use regular expression. Then, use pandas to create a dataframe to show latest review date, review summaries and review texts for each product id. Finally, output a csv file that contains those information.`os`library will be used to navigate throught folders, `re` library used to apply regular expressions, `pandas` library used to generate output."
   ]
  },
  {
   "cell_type": "markdown",
   "metadata": {
    "id": "p6Ql-W6BiqK7"
   },
   "source": [
    "-------------------------------------"
   ]
  },
  {
   "cell_type": "markdown",
   "metadata": {
    "id": "hnctlBF6iqK7"
   },
   "source": [
    "<div class=\"alert alert-block alert-warning\">\n",
    "    \n",
    "## 2.  Importing Libraries  <a class=\"anchor\" name=\"libs\"></a>\n",
    " </div>"
   ]
  },
  {
   "cell_type": "markdown",
   "metadata": {
    "id": "dQOLlwmAiqK7"
   },
   "source": [
    "The only permitted packages to be used in this assessment are imported in the following. They are used to fulfill the following tasks:\n",
    "\n",
    "* **os:** to interact with the operating system, e.g. navigate through folders\n",
    "* **re:** to define and use regular expressions\n",
    "* **pandas:** to generate dataframe, and output csv file"
   ]
  },
  {
   "cell_type": "code",
   "execution_count": 1,
   "metadata": {
    "id": "mKGO6FAXiqK7"
   },
   "outputs": [],
   "source": [
    "import os\n",
    "import re\n",
    "import pandas as pd"
   ]
  },
  {
   "cell_type": "markdown",
   "metadata": {
    "id": "3DEWD9qIiqK8"
   },
   "source": [
    "-------------------------------------"
   ]
  },
  {
   "cell_type": "markdown",
   "metadata": {
    "collapsed": true,
    "id": "Z814ttFYiqK8"
   },
   "source": [
    "<div class=\"alert alert-block alert-warning\">\n",
    "\n",
    "## 3.  Examining Review Files <a class=\"anchor\" name=\"examine\"></a>\n",
    "\n",
    " </div>"
   ]
  },
  {
   "cell_type": "markdown",
   "metadata": {
    "id": "Gp3TG3fyiqK9"
   },
   "source": [
    "Having examined the file content, the following observations were made:\n",
    "\n"
   ]
  },
  {
   "cell_type": "markdown",
   "metadata": {
    "id": "4YVIqb_miqK8"
   },
   "source": [
    "* product id : consists of 10 characters that including upper case letters and numbers, e.g. `'B000AZJ268'` or `'1234567890'`, which always locate before the specific pattern `'<p>\\n\\n<h1>'`\n",
    "* review text : there are two types of headings before review texts, e.g.`'review.text'` and `'REVIEW TEXT'`. and review text invovles of any alphanumerical characters ` 'a-z, A-Z, 0-9'` and special characters `!, ., -, ), `...\n",
    "* review date : in the format of `'dd-mm-yyyy'`. e.g. `'14-06-2014'`\n",
    "* review summary : there are two types of headings before review summaries, e.g.`'review.summary'` and `'REVIEW SUMMARY'`. and review text invovles of any alphanumerical characters ` 'a-z, A-Z, 0-9'` and special characters `!, ., -, ), `\n",
    "\n",
    "Finally, we need to use pandas to create a dataframe to output a csv file"
   ]
  },
  {
   "cell_type": "markdown",
   "metadata": {
    "id": "fBEASWLfiqK-"
   },
   "source": [
    "-------------------------------------"
   ]
  },
  {
   "cell_type": "markdown",
   "metadata": {
    "collapsed": true,
    "id": "iDoVeDSHiqK-"
   },
   "source": [
    "<div class=\"alert alert-block alert-warning\"> \n",
    "\n",
    "## 4.  Loading and Parsing Files <a class=\"anchor\" name=\"load\"></a>\n",
    "\n",
    "</div>"
   ]
  },
  {
   "cell_type": "markdown",
   "metadata": {
    "id": "z24HaN8hiqK-"
   },
   "source": [
    "In this section, all the `.txt` files are parsed and processed. First of all, appropriate regular expressions are defined to extract desired information when reading the files. Then store these information for each pid"
   ]
  },
  {
   "cell_type": "markdown",
   "metadata": {
    "id": "gQ0tuwvZiqK-"
   },
   "source": [
    "-------------------------------------"
   ]
  },
  {
   "cell_type": "markdown",
   "metadata": {
    "id": "rApp_Ic9iqK-"
   },
   "source": [
    "<div class=\"alert alert-block alert-info\">\n",
    "    \n",
    "### 4.1. Defining Regular Expressions <a class=\"anchor\" name=\"Reg_Exp\"></a>"
   ]
  },
  {
   "cell_type": "markdown",
   "metadata": {
    "id": "knauV0VViqK-"
   },
   "source": [
    "Defining correct regular expressions is crucial in extracting desired information from the text efficiently."
   ]
  },
  {
   "cell_type": "code",
   "execution_count": 2,
   "metadata": {
    "id": "X1m7-oIfiqK_"
   },
   "outputs": [],
   "source": [
    "pid_pattern = r'\\w{10}(?= <p>\\n\\n<h1>)'#reg ex pattern for id\n",
    "date_pattern = r'[01][0-9]-[0-3][0-9]-[12][0-9][0-9][0-9]' #reg ex pattern for date\n",
    "review_pattern = r\"([Rr][Ee][Vv][Ii][Ee][Ww][\\s.][Tt][Ee][Xx][Tt]\\s+<\\/h2>\\n\\n\\s+<p>\\s+)(.+)(<\\/p>)\" #reg ex pattern for reviews\n",
    "summary_pattern = r'([Rr][Ee][Vv][Ii][Ee][Ww][\\s.][Ss][Uu][Mm][Mm][Aa][Rr][Yy]\\s+<\\/h2>\\n\\n\\s+<p>\\s+)(.+)(\\s+<\\/p>\\n\\n\\n<h2>)' #reg ex pattern for summaries"
   ]
  },
  {
   "cell_type": "markdown",
   "metadata": {
    "id": "YTqmBHIKiqK_"
   },
   "source": [
    "These patterns are used in the next step when reading the files."
   ]
  },
  {
   "cell_type": "markdown",
   "metadata": {
    "id": "gZ-njkJciqK_"
   },
   "source": [
    "-------------------------------------"
   ]
  },
  {
   "cell_type": "markdown",
   "metadata": {
    "id": "QGcAMvmhiqK_"
   },
   "source": [
    "<div class=\"alert alert-block alert-info\">\n",
    "    \n",
    "### 4.2. Reading Files <a class=\"anchor\" name=\"Read\"></a>"
   ]
  },
  {
   "cell_type": "markdown",
   "metadata": {
    "id": "llC5D5M3iqK_"
   },
   "source": [
    "In this step, all tweet files are read and parsed. In order to parse only the intended `.txt` files (and not other files in the folder such as Jupyter Notebook .ipynb_checkpoints), os.listdir will list all the directory in the txt folder, if it is not a directory, we will open it and do the text pre-processing. For each txt file readed, use regular expressions to extract pids, reviews, latest review date and review summaries.\n",
    "* `pid_list` a list stores all pids extracted from the txt files\n",
    "* `pid_date_dict` a dictionary to store pid and its latest review date, key is pid and value is latest review date\n",
    "* `pid_review_dict` a dictionary to store pid and its review texts, key is pid and value is review texts\n",
    "* `pid_sum_dict` a dictionary to store pid and its review summaries, key is pid and value is review summaries"
   ]
  },
  {
   "cell_type": "markdown",
   "metadata": {},
   "source": [
    "A pre defined function to get the latest date, since the extracted date format likes `'mm-dd-yyyy'` instead of `'yyyy-mm-dd'`, we cannot directly use `max` function to get the latest date"
   ]
  },
  {
   "cell_type": "code",
   "execution_count": 3,
   "metadata": {},
   "outputs": [],
   "source": [
    "def latest_day(d):\n",
    "    ''' Compare the year, month and day for all extracted to dates get the latest date\n",
    "    '''\n",
    "    max_date = dates[0] # randomly select one to be the latest date\n",
    "    for i in dates:\n",
    "        date_list = max_date.split('-') \n",
    "        #Transfer string to a list, first element is day, second element is month, third element is year\n",
    "        l1 = i.split('-')\n",
    "        if l1[0].startswith('0'):\n",
    "            #Day format like '06' needs to transfer to '6' for computation\n",
    "            l1[0] = l1[0].replace('0','')\n",
    "\n",
    "        if l1[1].startswith('0'):\n",
    "            #Month format like '06' needs to transfer to '6' computation\n",
    "            l1[1] = l1[1].replace('0','')\n",
    "\n",
    "        if date_list[0].startswith('0'):\n",
    "            #Day format like '06' needs to transfer to '6' for computation\n",
    "            date_list[0] = date_list[0].replace('0','')\n",
    "\n",
    "        if date_list[1].startswith('0'):\n",
    "            #Month format like '06' needs to transfer to '6' computation\n",
    "            date_list[1] = date_list[1].replace('0','')\n",
    "\n",
    "        if int(l1[2])>int(date_list[2]):\n",
    "            # If the year of this date is large than the max_date, this date will be the max_date\n",
    "            max_date = i\n",
    "            continue\n",
    "        if int(l1[2])==int(date_list[2]) and int(l1[0])>int(date_list[0]):\n",
    "            # If the month of this date is large than the max_date when year is the same, this date will be the max_date\n",
    "            max_date = i\n",
    "            continue\n",
    "        if int(l1[2])==int(date_list[2]) and int(l1[0])==int(date_list[0]) and int(l1[1])>int(date_list[1]):\n",
    "            # If the day of this date is large than the max_date when year and month is the same, this date will be the max_date\n",
    "            max_date = i\n",
    "            continue\n",
    "    # After comparing all the dates, the latest date found\n",
    "    return max_date"
   ]
  },
  {
   "cell_type": "code",
   "execution_count": 4,
   "metadata": {},
   "outputs": [],
   "source": [
    "pid_list = []   \n",
    "pid_date_dict = {}\n",
    "pid_review_dict = {}\n",
    "pid_sum_dict = {}\n",
    "\n",
    "# Extract Product Id by using regular expression for each text file\n",
    "path = 'D:/jupyter_notebook/32189222'\n",
    "files = os.listdir(path)\n",
    "for file in files:\n",
    "    if not os.path.isdir(file): # if it is not a directory, read the file\n",
    "        f = open(path + '/' + file, 'r')\n",
    "        text_str = f.read()   # Read the text as a string\n",
    "        # Extract pids\n",
    "        pid = re.findall(pid_pattern,text_str)    # Apply regular expression\n",
    "        pid_list.append(pid)                # Add extracted product id into the product id list\n",
    "        #---------------------------------------\n",
    "        # Extract the latest reveiw date\n",
    "        dates = re.findall(date_pattern, text_str) # Apply regular expression\n",
    "        latest_date = latest_day(dates)  # Use the function defined before to get the latest date\n",
    "        pid_date_dict[str(pid)] = latest_date[3:5] + '/' +latest_date[:2] + '/' + latest_date[-4:] # change the date foramt to sample date format\n",
    "        #---------------------------------------\n",
    "        # Extract product reviews\n",
    "        reviews = re.findall(review_pattern,text_str)\n",
    "        for review in reviews: # store pids and corresponding reviews in a dict\n",
    "            if str(pid)[2:-2] not in pid_review_dict.keys():\n",
    "                pid_review_dict[str(pid)[2:-2]] = [review[1]]\n",
    "            else:\n",
    "                pid_review_dict[str(pid)[2:-2]].append(review[1])\n",
    "        pid_review_dict[str(pid)[2:-2]] = str(pid_review_dict[str(pid)[2:-2]])# change the foramt to sample format\n",
    "        #---------------------------------------\n",
    "        # Extract review summaries\n",
    "        summaries = re.findall(summary_pattern,text_str)\n",
    "        for summary in summaries: # store pids and corresponding review summaries in a dict\n",
    "            if str(pid)[2:-2] not in pid_sum_dict.keys():\n",
    "                pid_sum_dict[str(pid)[2:-2]] = [summary[1]]\n",
    "            else:\n",
    "                pid_sum_dict[str(pid)[2:-2]].append(summary[1])\n",
    "        pid_sum_dict[str(pid)[2:-2]] = str(pid_sum_dict[str(pid)[2:-2]]) # change the foramt to sample format\n",
    "        f.close()"
   ]
  },
  {
   "cell_type": "markdown",
   "metadata": {
    "id": "MD-LSS76iqLA"
   },
   "source": [
    "-------------------------------------"
   ]
  },
  {
   "cell_type": "markdown",
   "metadata": {
    "id": "ZtwS6ttqiqLA"
   },
   "source": [
    "<div class=\"alert alert-block alert-info\">\n",
    "    \n",
    "### 4.3. Creating a dataframe <a class=\"anchor\" name=\"latin\"></a>"
   ]
  },
  {
   "cell_type": "markdown",
   "metadata": {
    "id": "8IJ63oV9iqLA"
   },
   "source": [
    "Creating a dataframe by using pandas before we can output a csv file."
   ]
  },
  {
   "cell_type": "code",
   "execution_count": 5,
   "metadata": {},
   "outputs": [
    {
     "data": {
      "text/html": [
       "<div>\n",
       "<style scoped>\n",
       "    .dataframe tbody tr th:only-of-type {\n",
       "        vertical-align: middle;\n",
       "    }\n",
       "\n",
       "    .dataframe tbody tr th {\n",
       "        vertical-align: top;\n",
       "    }\n",
       "\n",
       "    .dataframe thead th {\n",
       "        text-align: right;\n",
       "    }\n",
       "</style>\n",
       "<table border=\"1\" class=\"dataframe\">\n",
       "  <thead>\n",
       "    <tr style=\"text-align: right;\">\n",
       "      <th></th>\n",
       "      <th>PID</th>\n",
       "      <th>product_review</th>\n",
       "      <th>review_summary</th>\n",
       "      <th>latest_review_date</th>\n",
       "    </tr>\n",
       "  </thead>\n",
       "  <tbody>\n",
       "    <tr>\n",
       "      <th>0</th>\n",
       "      <td>B00004Z8BC</td>\n",
       "      <td>['If you are replacing your UPS battery, go w/...</td>\n",
       "      <td>['Go With OEM', 'APC UPS replacement battery',...</td>\n",
       "      <td>14/06/2014</td>\n",
       "    </tr>\n",
       "    <tr>\n",
       "      <th>1</th>\n",
       "      <td>B00066ISFM</td>\n",
       "      <td>[\"Bought this based on other reviews and some ...</td>\n",
       "      <td>['Good protection in a small package', 'Works ...</td>\n",
       "      <td>18/06/2014</td>\n",
       "    </tr>\n",
       "    <tr>\n",
       "      <th>2</th>\n",
       "      <td>B005L38SGY</td>\n",
       "      <td>['This is as it is described a gaming headset....</td>\n",
       "      <td>['Sounds good but... However it is great for g...</td>\n",
       "      <td>30/03/2014</td>\n",
       "    </tr>\n",
       "    <tr>\n",
       "      <th>3</th>\n",
       "      <td>B005MI8NJK</td>\n",
       "      <td>[\"While the sound quality of these buds is pre...</td>\n",
       "      <td>['OK but I expect more at this price level', '...</td>\n",
       "      <td>29/03/2013</td>\n",
       "    </tr>\n",
       "    <tr>\n",
       "      <th>4</th>\n",
       "      <td>B005O4FYVC</td>\n",
       "      <td>[\"These headphones adjust to fit even my two y...</td>\n",
       "      <td>['Great Headphones Even For Kids', 'cheap made...</td>\n",
       "      <td>02/04/2014</td>\n",
       "    </tr>\n",
       "    <tr>\n",
       "      <th>...</th>\n",
       "      <td>...</td>\n",
       "      <td>...</td>\n",
       "      <td>...</td>\n",
       "      <td>...</td>\n",
       "    </tr>\n",
       "    <tr>\n",
       "      <th>495</th>\n",
       "      <td>B0056HNRPW</td>\n",
       "      <td>['As a beginner who just has taken 1 class on ...</td>\n",
       "      <td>['worked well', 'Syba 50 piece tool kit', 'Awe...</td>\n",
       "      <td>21/01/2014</td>\n",
       "    </tr>\n",
       "    <tr>\n",
       "      <th>496</th>\n",
       "      <td>B005BUWQ5G</td>\n",
       "      <td>[\"Well, the clip on these are cheap plastic an...</td>\n",
       "      <td>['Well...at least they are good spares and goo...</td>\n",
       "      <td>17/03/2014</td>\n",
       "    </tr>\n",
       "    <tr>\n",
       "      <th>497</th>\n",
       "      <td>B005DOMNK8</td>\n",
       "      <td>['The cameras are easy to setup and have a sta...</td>\n",
       "      <td>['Good enough, but not excellent', 'good', 'Ge...</td>\n",
       "      <td>14/06/2014</td>\n",
       "    </tr>\n",
       "    <tr>\n",
       "      <th>498</th>\n",
       "      <td>B005GMWNY8</td>\n",
       "      <td>[\"Smooth pan and tilt; doesn't have all the be...</td>\n",
       "      <td>['Best $70 fluid head tripod??', 'Broke First ...</td>\n",
       "      <td>27/06/2014</td>\n",
       "    </tr>\n",
       "    <tr>\n",
       "      <th>499</th>\n",
       "      <td>B005JRIJWA</td>\n",
       "      <td>['I\\'ve been using E-PM1 for a couple of weeks...</td>\n",
       "      <td>['5-star, great value!', 'Olympus PEN E-PM1 mi...</td>\n",
       "      <td>24/05/2014</td>\n",
       "    </tr>\n",
       "  </tbody>\n",
       "</table>\n",
       "<p>500 rows × 4 columns</p>\n",
       "</div>"
      ],
      "text/plain": [
       "            PID                                     product_review  \\\n",
       "0    B00004Z8BC  ['If you are replacing your UPS battery, go w/...   \n",
       "1    B00066ISFM  [\"Bought this based on other reviews and some ...   \n",
       "2    B005L38SGY  ['This is as it is described a gaming headset....   \n",
       "3    B005MI8NJK  [\"While the sound quality of these buds is pre...   \n",
       "4    B005O4FYVC  [\"These headphones adjust to fit even my two y...   \n",
       "..          ...                                                ...   \n",
       "495  B0056HNRPW  ['As a beginner who just has taken 1 class on ...   \n",
       "496  B005BUWQ5G  [\"Well, the clip on these are cheap plastic an...   \n",
       "497  B005DOMNK8  ['The cameras are easy to setup and have a sta...   \n",
       "498  B005GMWNY8  [\"Smooth pan and tilt; doesn't have all the be...   \n",
       "499  B005JRIJWA  ['I\\'ve been using E-PM1 for a couple of weeks...   \n",
       "\n",
       "                                        review_summary latest_review_date  \n",
       "0    ['Go With OEM', 'APC UPS replacement battery',...         14/06/2014  \n",
       "1    ['Good protection in a small package', 'Works ...         18/06/2014  \n",
       "2    ['Sounds good but... However it is great for g...         30/03/2014  \n",
       "3    ['OK but I expect more at this price level', '...         29/03/2013  \n",
       "4    ['Great Headphones Even For Kids', 'cheap made...         02/04/2014  \n",
       "..                                                 ...                ...  \n",
       "495  ['worked well', 'Syba 50 piece tool kit', 'Awe...         21/01/2014  \n",
       "496  ['Well...at least they are good spares and goo...         17/03/2014  \n",
       "497  ['Good enough, but not excellent', 'good', 'Ge...         14/06/2014  \n",
       "498  ['Best $70 fluid head tripod??', 'Broke First ...         27/06/2014  \n",
       "499  ['5-star, great value!', 'Olympus PEN E-PM1 mi...         24/05/2014  \n",
       "\n",
       "[500 rows x 4 columns]"
      ]
     },
     "execution_count": 5,
     "metadata": {},
     "output_type": "execute_result"
    }
   ],
   "source": [
    "data_dict = {}\n",
    "data_dict['PID'] = pid_review_dict.keys()\n",
    "data_dict['product_review'] = pid_review_dict.values()\n",
    "data_dict['review_summary'] = pid_sum_dict.values()\n",
    "data_dict['latest_review_date'] = pid_date_dict.values()\n",
    "df = pd.DataFrame(data_dict)\n",
    "df"
   ]
  },
  {
   "cell_type": "markdown",
   "metadata": {
    "id": "7g9k9Fb8iqLB"
   },
   "source": [
    "-------------------------------------"
   ]
  },
  {
   "cell_type": "markdown",
   "metadata": {
    "collapsed": true,
    "id": "KVwmp1LfiqLE"
   },
   "source": [
    "<div class=\"alert alert-block alert-warning\"> \n",
    "\n",
    "## 5.  Writing to an CSV File <a class=\"anchor\" name=\"write\"></a>\n",
    "\n",
    "</div>"
   ]
  },
  {
   "cell_type": "markdown",
   "metadata": {
    "id": "tFHcHFPGiqLE"
   },
   "source": [
    "Output a csv file and remove index to follow the sample output structrue."
   ]
  },
  {
   "cell_type": "code",
   "execution_count": 6,
   "metadata": {},
   "outputs": [],
   "source": [
    "df.to_csv('32189222.csv',index = False)"
   ]
  },
  {
   "cell_type": "markdown",
   "metadata": {
    "id": "i0WT10TJiqLE"
   },
   "source": [
    "-------------------------------------"
   ]
  },
  {
   "cell_type": "markdown",
   "metadata": {
    "collapsed": true,
    "id": "3XcaJBATiqLE"
   },
   "source": [
    "<div class=\"alert alert-block alert-info\">\n",
    "    \n",
    "### 5.1. Verification of the Generated CSV File <a class=\"anchor\" name=\"test_xml\"></a>"
   ]
  },
  {
   "cell_type": "markdown",
   "metadata": {
    "id": "jEg_xQdXiqLF"
   },
   "source": [
    "Read the output file, and check if structure is same as sample output file and check the lenth"
   ]
  },
  {
   "cell_type": "code",
   "execution_count": 7,
   "metadata": {},
   "outputs": [
    {
     "data": {
      "text/html": [
       "<div>\n",
       "<style scoped>\n",
       "    .dataframe tbody tr th:only-of-type {\n",
       "        vertical-align: middle;\n",
       "    }\n",
       "\n",
       "    .dataframe tbody tr th {\n",
       "        vertical-align: top;\n",
       "    }\n",
       "\n",
       "    .dataframe thead th {\n",
       "        text-align: right;\n",
       "    }\n",
       "</style>\n",
       "<table border=\"1\" class=\"dataframe\">\n",
       "  <thead>\n",
       "    <tr style=\"text-align: right;\">\n",
       "      <th></th>\n",
       "      <th>PID</th>\n",
       "      <th>product_review</th>\n",
       "      <th>review_summary</th>\n",
       "      <th>latest_review_date</th>\n",
       "    </tr>\n",
       "  </thead>\n",
       "  <tbody>\n",
       "    <tr>\n",
       "      <th>0</th>\n",
       "      <td>B00004Z8BC</td>\n",
       "      <td>['If you are replacing your UPS battery, go w/...</td>\n",
       "      <td>['Go With OEM', 'APC UPS replacement battery',...</td>\n",
       "      <td>14/06/2014</td>\n",
       "    </tr>\n",
       "    <tr>\n",
       "      <th>1</th>\n",
       "      <td>B00066ISFM</td>\n",
       "      <td>[\"Bought this based on other reviews and some ...</td>\n",
       "      <td>['Good protection in a small package', 'Works ...</td>\n",
       "      <td>18/06/2014</td>\n",
       "    </tr>\n",
       "    <tr>\n",
       "      <th>2</th>\n",
       "      <td>B005L38SGY</td>\n",
       "      <td>['This is as it is described a gaming headset....</td>\n",
       "      <td>['Sounds good but... However it is great for g...</td>\n",
       "      <td>30/03/2014</td>\n",
       "    </tr>\n",
       "    <tr>\n",
       "      <th>3</th>\n",
       "      <td>B005MI8NJK</td>\n",
       "      <td>[\"While the sound quality of these buds is pre...</td>\n",
       "      <td>['OK but I expect more at this price level', '...</td>\n",
       "      <td>29/03/2013</td>\n",
       "    </tr>\n",
       "    <tr>\n",
       "      <th>4</th>\n",
       "      <td>B005O4FYVC</td>\n",
       "      <td>[\"These headphones adjust to fit even my two y...</td>\n",
       "      <td>['Great Headphones Even For Kids', 'cheap made...</td>\n",
       "      <td>02/04/2014</td>\n",
       "    </tr>\n",
       "    <tr>\n",
       "      <th>...</th>\n",
       "      <td>...</td>\n",
       "      <td>...</td>\n",
       "      <td>...</td>\n",
       "      <td>...</td>\n",
       "    </tr>\n",
       "    <tr>\n",
       "      <th>495</th>\n",
       "      <td>B0056HNRPW</td>\n",
       "      <td>['As a beginner who just has taken 1 class on ...</td>\n",
       "      <td>['worked well', 'Syba 50 piece tool kit', 'Awe...</td>\n",
       "      <td>21/01/2014</td>\n",
       "    </tr>\n",
       "    <tr>\n",
       "      <th>496</th>\n",
       "      <td>B005BUWQ5G</td>\n",
       "      <td>[\"Well, the clip on these are cheap plastic an...</td>\n",
       "      <td>['Well...at least they are good spares and goo...</td>\n",
       "      <td>17/03/2014</td>\n",
       "    </tr>\n",
       "    <tr>\n",
       "      <th>497</th>\n",
       "      <td>B005DOMNK8</td>\n",
       "      <td>['The cameras are easy to setup and have a sta...</td>\n",
       "      <td>['Good enough, but not excellent', 'good', 'Ge...</td>\n",
       "      <td>14/06/2014</td>\n",
       "    </tr>\n",
       "    <tr>\n",
       "      <th>498</th>\n",
       "      <td>B005GMWNY8</td>\n",
       "      <td>[\"Smooth pan and tilt; doesn't have all the be...</td>\n",
       "      <td>['Best $70 fluid head tripod??', 'Broke First ...</td>\n",
       "      <td>27/06/2014</td>\n",
       "    </tr>\n",
       "    <tr>\n",
       "      <th>499</th>\n",
       "      <td>B005JRIJWA</td>\n",
       "      <td>['I\\'ve been using E-PM1 for a couple of weeks...</td>\n",
       "      <td>['5-star, great value!', 'Olympus PEN E-PM1 mi...</td>\n",
       "      <td>24/05/2014</td>\n",
       "    </tr>\n",
       "  </tbody>\n",
       "</table>\n",
       "<p>500 rows × 4 columns</p>\n",
       "</div>"
      ],
      "text/plain": [
       "            PID                                     product_review  \\\n",
       "0    B00004Z8BC  ['If you are replacing your UPS battery, go w/...   \n",
       "1    B00066ISFM  [\"Bought this based on other reviews and some ...   \n",
       "2    B005L38SGY  ['This is as it is described a gaming headset....   \n",
       "3    B005MI8NJK  [\"While the sound quality of these buds is pre...   \n",
       "4    B005O4FYVC  [\"These headphones adjust to fit even my two y...   \n",
       "..          ...                                                ...   \n",
       "495  B0056HNRPW  ['As a beginner who just has taken 1 class on ...   \n",
       "496  B005BUWQ5G  [\"Well, the clip on these are cheap plastic an...   \n",
       "497  B005DOMNK8  ['The cameras are easy to setup and have a sta...   \n",
       "498  B005GMWNY8  [\"Smooth pan and tilt; doesn't have all the be...   \n",
       "499  B005JRIJWA  ['I\\'ve been using E-PM1 for a couple of weeks...   \n",
       "\n",
       "                                        review_summary latest_review_date  \n",
       "0    ['Go With OEM', 'APC UPS replacement battery',...         14/06/2014  \n",
       "1    ['Good protection in a small package', 'Works ...         18/06/2014  \n",
       "2    ['Sounds good but... However it is great for g...         30/03/2014  \n",
       "3    ['OK but I expect more at this price level', '...         29/03/2013  \n",
       "4    ['Great Headphones Even For Kids', 'cheap made...         02/04/2014  \n",
       "..                                                 ...                ...  \n",
       "495  ['worked well', 'Syba 50 piece tool kit', 'Awe...         21/01/2014  \n",
       "496  ['Well...at least they are good spares and goo...         17/03/2014  \n",
       "497  ['Good enough, but not excellent', 'good', 'Ge...         14/06/2014  \n",
       "498  ['Best $70 fluid head tripod??', 'Broke First ...         27/06/2014  \n",
       "499  ['5-star, great value!', 'Olympus PEN E-PM1 mi...         24/05/2014  \n",
       "\n",
       "[500 rows x 4 columns]"
      ]
     },
     "execution_count": 7,
     "metadata": {},
     "output_type": "execute_result"
    }
   ],
   "source": [
    "df1 = pd.read_csv('32189222.csv')\n",
    "df1"
   ]
  },
  {
   "cell_type": "markdown",
   "metadata": {
    "id": "20RDw_JDiqLF"
   },
   "source": [
    "-------------------------------------"
   ]
  },
  {
   "cell_type": "markdown",
   "metadata": {
    "id": "cO8vwKqkiqLF"
   },
   "source": [
    "<div class=\"alert alert-block alert-warning\"> \n",
    "\n",
    "## 6. Summary <a class=\"anchor\" name=\"summary\"></a>\n",
    "\n",
    "</div>"
   ]
  },
  {
   "cell_type": "markdown",
   "metadata": {
    "id": "4QdX7ozQiqLF"
   },
   "source": [
    "In conclusion, we used reluar expressions to extract pids and their review texts, latest review date and review summaries for 500 txt files. os library used to find txt file, re library used to apply regular expressions to the text, and pandas library used to work with dataframe and output a csv file."
   ]
  },
  {
   "cell_type": "markdown",
   "metadata": {
    "id": "TnASfTmniqLF"
   },
   "source": [
    "-------------------------------------"
   ]
  },
  {
   "cell_type": "markdown",
   "metadata": {
    "id": "Li7bchX9iqLF"
   },
   "source": [
    "<div class=\"alert alert-block alert-warning\"> \n",
    "\n",
    "## 7. References <a class=\"anchor\" name=\"Ref\"></a>\n",
    "\n",
    "</div>"
   ]
  },
  {
   "cell_type": "markdown",
   "metadata": {
    "id": "TkWuWC3NiqLF"
   },
   "source": [
    "[1 ]<a class=\"anchor\" name=\"ref-2\"></a> Regular Expression Language - Quick Reference,https://docs.microsoft.com/en-us/dotnet/standard/base-types/regular-expression-language-quick-reference, Accessed 26/08/2022\n",
    "\n",
    "[2 ]<a class=\"anchor\" name=\"ref-2\"></a> pandas.DataFrame, https://pandas.pydata.org/docs/reference/api/pandas.DataFrame.html, Accessed 27/08/2022\n",
    "\n",
    "[3 ]<a class=\"anchor\" name=\"ref-2\"></a> Open All the Files in a Directory in Python,https://www.delftstack.com/howto/python/python-open-all-files-in-directory/, Accessed 26/08/2022"
   ]
  },
  {
   "cell_type": "markdown",
   "metadata": {
    "id": "dVyuz4LciqLG"
   },
   "source": [
    "## --------------------------------------------------------------------------------------------------------------------------"
   ]
  }
 ],
 "metadata": {
  "colab": {
   "name": "task1_xxxxxxx.ipynb",
   "provenance": []
  },
  "kernelspec": {
   "display_name": "Python 3 (ipykernel)",
   "language": "python",
   "name": "python3"
  },
  "language_info": {
   "codemirror_mode": {
    "name": "ipython",
    "version": 3
   },
   "file_extension": ".py",
   "mimetype": "text/x-python",
   "name": "python",
   "nbconvert_exporter": "python",
   "pygments_lexer": "ipython3",
   "version": "3.11.4"
  }
 },
 "nbformat": 4,
 "nbformat_minor": 1
}
